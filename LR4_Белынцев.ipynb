{
 "cells": [
  {
   "cell_type": "markdown",
   "id": "comparative-telling",
   "metadata": {},
   "source": [
    "# Лабораторная работа №4"
   ]
  },
  {
   "cell_type": "raw",
   "id": "precise-commonwealth",
   "metadata": {},
   "source": [
    "Выполнил студент группы БСТ1904 Белынцев Дмитрий Владимирович"
   ]
  },
  {
   "cell_type": "raw",
   "id": "general-foster",
   "metadata": {},
   "source": [
    "Реализовать следующие структуры данных:\n",
    "\n",
    "● Стек (stack):\n",
    "операции для стека: инициализация, проверка на пустоту, добавление нового элемента в начало, извлечение элемента из начала;\n",
    "\n",
    "● Дек (двусторонняя очередь, deque):\n",
    "операции для дека: инициализация, проверка на пустоту, добавление нового элемента в начало, добавление нового элемента в конец, извлечение элемента из начала, извлечение элемента из конца."
   ]
  },
  {
   "cell_type": "raw",
   "id": "british-snowboard",
   "metadata": {},
   "source": [
    "Стэк и дэк"
   ]
  },
  {
   "cell_type": "code",
   "execution_count": 11,
   "id": "better-breakdown",
   "metadata": {},
   "outputs": [],
   "source": [
    "class LinkedList:\n",
    "    def __init__(self, value=None):\n",
    "        self.value = value\n",
    "        self.right = None\n",
    "        self.left = None"
   ]
  },
  {
   "cell_type": "code",
   "execution_count": null,
   "id": "toxic-china",
   "metadata": {},
   "outputs": [],
   "source": [
    "class Stack:\n",
    "    def __init__(self):\n",
    "        self.top = LinkedList()\n",
    "        self.size = 0\n",
    "    \n",
    "    def __len__(self):\n",
    "        return self.size\n",
    "    \n",
    "    def __str__(self):\n",
    "        return f\"Stack: {self.top}\"\n",
    "\n",
    "    def isEmpty(self):\n",
    "        return self.size == 0\n",
    "\n",
    "    def push(self, value):\n",
    "        if self.size > 0:\n",
    "            node = LinkedList(value)\n",
    "            node.right = self.top\n",
    "            self.top = node\n",
    "        else:\n",
    "            self.top.value = value\n",
    "        self.size += 1\n",
    "      \n",
    "    def pop(self):\n",
    "        if self.isEmpty():\n",
    "            return(\"Стэк пустой\")\n",
    "        remove = self.top\n",
    "        if self.size > 1:\n",
    "            self.top = remove.right\n",
    "        self.size -= 1\n",
    "        return remove.value\n",
    "    \n",
    "    def peek(self):\n",
    "        if self.isEmpty():\n",
    "            return(\"Стэк пустой\")\n",
    "        return self.top.value\n",
    "    \n",
    "    def reverse(self):\n",
    "        current = self.top\n",
    "        prev = None\n",
    "        nex = None\n",
    "        while current is not None:\n",
    "            nex = current.right\n",
    "            current.right = prev\n",
    "            prev = current\n",
    "            current = nex\n",
    "\n",
    "        self.top = prev"
   ]
  },
  {
   "cell_type": "raw",
   "id": "after-cursor",
   "metadata": {},
   "source": [
    "Дэк"
   ]
  },
  {
   "cell_type": "code",
   "execution_count": null,
   "id": "weekly-patient",
   "metadata": {},
   "outputs": [],
   "source": [
    "class Deque:\n",
    "    def __init__(self):\n",
    "        self.top = LinkedList()\n",
    "        self.bottom = self.top\n",
    "        self.size = 0\n",
    "        \n",
    "    def __len__(self):\n",
    "        return self.size\n",
    "    \n",
    "    def isEmpty(self):\n",
    "        return self.size == 0\n",
    "\n",
    "    def pushLeft(self, value):\n",
    "        if self.size > 0:\n",
    "            a = LinkedList(value)\n",
    "            a.right = self.bottom\n",
    "            self.bottom.left = a\n",
    "            self.bottom = a\n",
    "        else:\n",
    "            self.bottom.value = value\n",
    "        self.size += 1\n",
    "\n",
    "    def pushRight(self, value):\n",
    "        if self.size > 0:\n",
    "            a = LinkedList(value)\n",
    "            a.left = self.top\n",
    "            self.top.right = a\n",
    "            self.top = a\n",
    "        else:\n",
    "            self.top.value = value\n",
    "        self.size += 1\n",
    "    \n",
    "    def popLeft(self):\n",
    "        if self.isEmpty():\n",
    "            return('Пустой дэк')\n",
    "        remove = self.bottom\n",
    "        if self.size > 1:\n",
    "            self.bottom = remove.right\n",
    "        self.size -= 1\n",
    "        return remove.value\n",
    "    \n",
    "    def popRight(self):\n",
    "        if self.isEmpty():\n",
    "            return('Пустой дэк')\n",
    "        remove = self.top\n",
    "        if self.size > 1:\n",
    "            self.top = remove.left\n",
    "        self.size -= 1\n",
    "        return remove.value\n",
    "    \n",
    "    def peekRight(self):\n",
    "        if self.isEmpty():\n",
    "            return('Пустой дэк')\n",
    "        return self.top.value\n",
    "    \n",
    "    def peekLeft(self):\n",
    "        if self.isEmpty():\n",
    "            return('Пустой дэк')\n",
    "        return self.bottom.value"
   ]
  },
  {
   "cell_type": "raw",
   "id": "diverse-central",
   "metadata": {},
   "source": [
    "Задача 1\n",
    "Отсортировать строки файла, содержащие названия книг, в алфавитном порядке с использованием двух деков."
   ]
  },
  {
   "cell_type": "code",
   "execution_count": 13,
   "id": "suburban-hearts",
   "metadata": {},
   "outputs": [
    {
     "ename": "AttributeError",
     "evalue": "'Deque' object has no attribute 'pushRight'",
     "output_type": "error",
     "traceback": [
      "\u001b[1;31m---------------------------------------------------------------------------\u001b[0m",
      "\u001b[1;31mAttributeError\u001b[0m                            Traceback (most recent call last)",
      "\u001b[1;32m<ipython-input-13-9ac12b886404>\u001b[0m in \u001b[0;36m<module>\u001b[1;34m\u001b[0m\n\u001b[0;32m      3\u001b[0m     \u001b[0md2\u001b[0m \u001b[1;33m=\u001b[0m \u001b[0mDeque\u001b[0m\u001b[1;33m(\u001b[0m\u001b[1;33m)\u001b[0m\u001b[1;33m\u001b[0m\u001b[1;33m\u001b[0m\u001b[0m\n\u001b[0;32m      4\u001b[0m     \u001b[1;32mfor\u001b[0m \u001b[0mbook\u001b[0m \u001b[1;32min\u001b[0m \u001b[0mbooks\u001b[0m\u001b[1;33m:\u001b[0m\u001b[1;33m\u001b[0m\u001b[1;33m\u001b[0m\u001b[0m\n\u001b[1;32m----> 5\u001b[1;33m         \u001b[0md1\u001b[0m\u001b[1;33m.\u001b[0m\u001b[0mpushRight\u001b[0m\u001b[1;33m(\u001b[0m\u001b[0mbook\u001b[0m\u001b[1;33m)\u001b[0m\u001b[1;33m\u001b[0m\u001b[1;33m\u001b[0m\u001b[0m\n\u001b[0m\u001b[0;32m      6\u001b[0m     \u001b[1;32mwhile\u001b[0m \u001b[1;32mnot\u001b[0m \u001b[0md1\u001b[0m\u001b[1;33m.\u001b[0m\u001b[0misEmpty\u001b[0m\u001b[1;33m(\u001b[0m\u001b[1;33m)\u001b[0m\u001b[1;33m:\u001b[0m\u001b[1;33m\u001b[0m\u001b[1;33m\u001b[0m\u001b[0m\n\u001b[0;32m      7\u001b[0m         \u001b[0ma\u001b[0m \u001b[1;33m=\u001b[0m \u001b[0md1\u001b[0m\u001b[1;33m.\u001b[0m\u001b[0mpopRight\u001b[0m\u001b[1;33m(\u001b[0m\u001b[1;33m)\u001b[0m\u001b[1;33m\u001b[0m\u001b[1;33m\u001b[0m\u001b[0m\n",
      "\u001b[1;31mAttributeError\u001b[0m: 'Deque' object has no attribute 'pushRight'"
     ]
    }
   ],
   "source": [
    "with open('lab4files/books.txt', 'r') as books:\n",
    "    d1 = Deque()\n",
    "    d2 = Deque()\n",
    "    for book in books:\n",
    "        d1.pushRight(book)\n",
    "    while not d1.isEmpty():\n",
    "        a = d1.popRight()\n",
    "        while not d2.isEmpty() and d2.peekRight() > a:\n",
    "            d1.pushLeft(d2.popRight())\n",
    "        d2.pushRight(a)\n",
    "    while not d2.isEmpty():\n",
    "        print(d2.popLeft())\n"
   ]
  },
  {
   "cell_type": "raw",
   "id": "olympic-rental",
   "metadata": {},
   "source": [
    "Задание №2\n",
    "Дек содержит последовательность символов для шифровки сообщений. Дан текстовый файл, содержащий зашифрованное сообщение. Пользуясь деком, расшифровать текст. Известно, что при шифровке каждый символ сообщения заменялся следующим за ним в деке по часовой стрелке через один."
   ]
  },
  {
   "cell_type": "code",
   "execution_count": 14,
   "id": "fatal-pennsylvania",
   "metadata": {},
   "outputs": [
    {
     "name": "stdout",
     "output_type": "stream",
     "text": [
      "Введите имя файла: lab4task2\n",
      "decoded_text: "
     ]
    }
   ],
   "source": [
    "folder = \"lab4files/\"\n",
    "filename = input(\"Введите имя файла: \")\n",
    "\n",
    "decoder = Deque([])\n",
    "abc = \"abcdefghijklmnopqrstuvwxyz\"\n",
    "new_text = \"\"\n",
    "for letter in abc:\n",
    "    decoder.addFront(letter)\n",
    "try:\n",
    "    # task2.txt\n",
    "    with open(folder + filename + \".txt\", 'r') as f:\n",
    "        for line in f:\n",
    "            for ch in line:\n",
    "                # Ищем нужный символ\n",
    "                if(ch.lower() in abc):\n",
    "                    while(ch.lower() != decoder.getRear()):\n",
    "                        decoder.addFront(decoder.popRear())\n",
    "                    # Нужен следующий символ\n",
    "                    decoder.addFront(decoder.popRear())\n",
    "                    ch = decoder.getRear()\n",
    "                new_text = new_text + ch\n",
    "        # Вывод и запись в новый файл\n",
    "        with open(folder + filename + \"_output2.txt\", 'w') as n:\n",
    "            print(\"decoded_text:\", new_text, end='')\n",
    "            n.write(new_text)          \n",
    "except IOError:\n",
    "    print(\"IOError: Не найден файл, либо неверно указан путь\")\n",
    "    print(\"IOError: Не найден файл, либо неверно указан путь\")"
   ]
  },
  {
   "cell_type": "raw",
   "id": "prerequisite-retrieval",
   "metadata": {},
   "source": [
    "Задание №3\n",
    "Даны три стержня и n дисков различного размера. Диски можно надевать на стержни, образуя из них башни. Перенести n дисков со стержня А на стержень С, сохранив их первоначальный порядок. При переносе дисков необходимо соблюдать следующие правила:\n",
    "\n",
    "на каждом шаге со стержня на стержень переносить только один диск;\n",
    "диск нельзя помещать на диск меньшего размера;\n",
    "для промежуточного хранения можно использовать стержень В.\n",
    "Реализовать алгоритм, используя три стека вместо стержней А, В, С. Информация о дисках хранится в исходном файле."
   ]
  },
  {
   "cell_type": "code",
   "execution_count": 15,
   "id": "composite-performance",
   "metadata": {},
   "outputs": [
    {
     "name": "stdout",
     "output_type": "stream",
     "text": [
      "Введите имя файла: lab4task3\n",
      "C:1 2 3 4 5 6 7 8 9 10 ;\n",
      "solved 10 disks in 0.0009970664978027344 seconds\n",
      "C:1 2 3 4 5 ;\n",
      "solved 5 disks in 0.0 seconds\n",
      "C:1 2 3 4 5 6 7 8 9 10 11 12 13 14 15 16 17 18 19 20 ;\n",
      "solved 20 disks in 0.0 seconds\n"
     ]
    }
   ],
   "source": [
    "import time\n",
    "\n",
    "folder = \"lab4files/\"\n",
    "filename = input(\"Введите имя файла: \")\n",
    "\n",
    "\n",
    "# Используем рекурсию для решения задачи\n",
    "#Чтобы решить при n дисках - нужно переложить n-1 дисков\n",
    "#на вспомогательный(aux) стержень, переместить n диск на\n",
    "#конечный стержень, затем, используя стартовый, как\n",
    "#вспомогательный переместить n-1 дисков на конечный\n",
    "def solve(beg, aux, end, n):\n",
    "    if n == 0:\n",
    "        pass\n",
    "    if n == 1:\n",
    "        end.push(beg.pop())\n",
    "    if n >= 2:\n",
    "        solve(beg, end, aux, n-1)\n",
    "        solve(beg, aux, end, 1)\n",
    "        solve(aux, beg, end, n-1)\n",
    "        \n",
    "try:\n",
    "    # task3.txt\n",
    "    with open(folder + filename + \".txt\", 'r') as f:\n",
    "        for line in f:\n",
    "            A = Stack()\n",
    "            B = Stack()\n",
    "            C = Stack()\n",
    "            # Найдём условие - сколько дисков (n)\n",
    "            n = 0\n",
    "            for ch in line:\n",
    "                if ch.isdigit():\n",
    "                    n *= 10\n",
    "                    n += int(ch)\n",
    "            # Инициализация стеков\n",
    "            for i in range(n, 0, -1):\n",
    "                A.push(i)\n",
    "            solve(A, B, C, n)\n",
    "            # Вывод решённого\n",
    "            start_time = time.time()\n",
    "            print('C:',end='')\n",
    "            C.display()\n",
    "            print(\"solved %d disks in %s seconds\" % (n, (time.time() - start_time)))\n",
    "except IOError:\n",
    "    print(\"IOError: Не найден файл, либо неверно указан путь\")"
   ]
  },
  {
   "cell_type": "raw",
   "id": "likely-identity",
   "metadata": {},
   "source": [
    "Задание №4\n",
    "Дан текстовый файл с программой на алгоритмическом языке.\n",
    "\n",
    "Заодин просмотр файла проверить баланс круглых скобок в тексте, используя стек.\n",
    "\n"
   ]
  },
  {
   "cell_type": "code",
   "execution_count": 16,
   "id": "sublime-ceremony",
   "metadata": {},
   "outputs": [
    {
     "name": "stdout",
     "output_type": "stream",
     "text": [
      "Введите имя файла: lab4task4\n",
      "True\n"
     ]
    }
   ],
   "source": [
    "folder = \"lab4files/\"\n",
    "filename = input(\"Введите имя файла: \")\n",
    "\n",
    "def check(file):\n",
    "    stack = Stack()\n",
    "    for line in f:\n",
    "        for ch in line:\n",
    "            if ch == '(':\n",
    "                stack.push(ch)\n",
    "            if ch == ')':\n",
    "                if not stack.isEmpty():\n",
    "                    stack.pop()\n",
    "                else:\n",
    "                    return False\n",
    "    return stack.isEmpty()\n",
    "\n",
    "try:\n",
    "    # task4.txt\n",
    "    with open(folder + filename + \".txt\", 'r') as f:\n",
    "        print(check(f))\n",
    "except IOError:\n",
    "    print(\"IOError: Не найден файл, либо неверно указан путь\")"
   ]
  },
  {
   "cell_type": "raw",
   "id": "foreign-relationship",
   "metadata": {},
   "source": [
    "Задание №5\n",
    "Дан текстовый файл с программой на алгоритмическом языке.\n",
    "\n",
    "За один просмотр файла проверить баланс квадратных скобок в тексте, используя дек."
   ]
  },
  {
   "cell_type": "code",
   "execution_count": 17,
   "id": "living-zambia",
   "metadata": {},
   "outputs": [
    {
     "name": "stdout",
     "output_type": "stream",
     "text": [
      "Введите имя файла: lab4task5\n",
      "True\n"
     ]
    }
   ],
   "source": [
    "folder = \"lab4files/\"\n",
    "filename = input(\"Введите имя файла: \")\n",
    "\n",
    "def check(file):\n",
    "    deque = Deque()\n",
    "    for line in f:\n",
    "        for ch in line:\n",
    "            if ch == '[':\n",
    "                deque.addFront(ch)\n",
    "            if ch == ']':\n",
    "                if not deque.isEmpty():\n",
    "                    deque.popFront()\n",
    "                else:\n",
    "                    return False\n",
    "    return deque.isEmpty()\n",
    "\n",
    "try:\n",
    "    # task5.txt\n",
    "    with open(folder + filename + \".txt\", 'r') as f:\n",
    "        print(check(f))\n",
    "except IOError:\n",
    "    print(\"IOError: Не найден файл, либо неверно указан путь\")"
   ]
  },
  {
   "cell_type": "raw",
   "id": "italian-drive",
   "metadata": {},
   "source": [
    "Задание №6\n",
    "Дан файл из символов. Используя стек (несколько?), за один просмотр файла напечатать сначала все цифры, затем все буквы, и, наконец, все остальные символы, сохраняя исходный порядок в каждой группе символов."
   ]
  },
  {
   "cell_type": "code",
   "execution_count": 18,
   "id": "inner-triple",
   "metadata": {},
   "outputs": [
    {
     "name": "stdout",
     "output_type": "stream",
     "text": [
      "Введите имя файла: lab4task6\n",
      "689029990001755123445taskSomemeaninglesstextPhonenumberxyxyabcdasdfl  : +=,  > ,  <    - \\ ' ; "
     ]
    }
   ],
   "source": [
    "folder = \"lab4files/\"\n",
    "filename = input(\"Введите имя файла: \")\n",
    "\n",
    "def reverse_stack(stack):\n",
    "    aux = Stack()\n",
    "    while not stack.isEmpty():\n",
    "        aux.push(stack.pop())\n",
    "    return aux\n",
    "\n",
    "try:\n",
    "    # task6.txt\n",
    "    new_file = open(folder + filename + \"_output6.txt\", 'w')\n",
    "    with open(folder + filename + \".txt\", 'r') as f:\n",
    "        digits = Stack()\n",
    "        letters = Stack()\n",
    "        symbols = Stack()\n",
    "        # 1 проход\n",
    "        for line in f:\n",
    "            for ch in line:\n",
    "                if ch.isdigit():\n",
    "                    digits.push(ch)\n",
    "                elif ch.isalpha():\n",
    "                    letters.push(ch)\n",
    "                elif ch.isprintable():\n",
    "                    symbols.push(ch)\n",
    "        digits = reverse_stack(digits)\n",
    "        letters = reverse_stack(letters)\n",
    "        symbols = reverse_stack(symbols)\n",
    "        # Вывод\n",
    "        while not digits.isEmpty():\n",
    "            new_file.write(digits.peek())\n",
    "            print(digits.pop(), end='')\n",
    "        while not letters.isEmpty():\n",
    "            new_file.write(letters.peek())\n",
    "            print(letters.pop(), end='')\n",
    "        while not symbols.isEmpty():\n",
    "            new_file.write(symbols.peek())\n",
    "            print(symbols.pop(), end='')\n",
    "    new_file.close()\n",
    "except IOError:\n",
    "    print(\"IOError: Не найден файл, либо неверно указан путь\")"
   ]
  },
  {
   "cell_type": "raw",
   "id": "interim-cleveland",
   "metadata": {},
   "source": [
    "Задание №7\n",
    "Дан файл из целых чисел. Используя дек, за один просмотр файла напечатать сначала все отрицательные числа, затем все положительные числа, сохраняя исходный порядок в каждой группе."
   ]
  },
  {
   "cell_type": "code",
   "execution_count": 19,
   "id": "automatic-spell",
   "metadata": {},
   "outputs": [
    {
     "name": "stdout",
     "output_type": "stream",
     "text": [
      "Введите имя файла: lab4task7\n",
      "-12,52 -555 -230 -9. +25 4.32 3. 23.2 333 +646 "
     ]
    }
   ],
   "source": [
    "folder = \"lab4files/\"\n",
    "filename = input(\"Введите имя файла: \")\n",
    "\n",
    "try:\n",
    "    # task7.txt\n",
    "    new_file = open(folder + filename + \"_output7.txt\", 'w')\n",
    "    with open(folder + filename + \".txt\", 'r') as f:\n",
    "        positive = Deque()\n",
    "        negative = Deque()\n",
    "        # 1 проход\n",
    "        for line in f:\n",
    "            # Для обработки чисел\n",
    "            number_i = 0\n",
    "            processing_n = False\n",
    "            afterpoint = False\n",
    "            ispos = False\n",
    "            # Проход по строке\n",
    "            for i in range(0, len(line)):\n",
    "                if not processing_n:\n",
    "                    if (line[i] == '+' or line[i].isdigit()):\n",
    "                        ispos = True\n",
    "                        afterpoint = False\n",
    "                        processing_n = True\n",
    "                        number_i = i\n",
    "                    if (line[i] == '-'):\n",
    "                        ispos = False\n",
    "                        afterpoint = False\n",
    "                        processing_n = True\n",
    "                        number_i = i\n",
    "                else:\n",
    "                    if afterpoint:\n",
    "                        if not line[i].isdigit():\n",
    "                            if ispos:\n",
    "                                positive.addFront(line[number_i:i])\n",
    "                            else:\n",
    "                                negative.addFront(line[number_i:i])\n",
    "                            processing_n = False\n",
    "                    else:\n",
    "                        if line[i] == '.' or line[i] == ',':\n",
    "                            afterpoint = True\n",
    "                        elif not line[i].isdigit():\n",
    "                            if i > number_i+1:\n",
    "                                if ispos:\n",
    "                                    positive.addFront(line[number_i:i])\n",
    "                                else:\n",
    "                                    negative.addFront(line[number_i:i])\n",
    "                            processing_n = False\n",
    "            if processing_n:\n",
    "                if ispos:\n",
    "                    positive.addFront(line[number_i:i+1])\n",
    "                else:\n",
    "                    negative.addFront(line[number_i:i+1])\n",
    "    # Вывод\n",
    "    while not negative.isEmpty():\n",
    "        new_file.write(negative.peekRear() + ' ')\n",
    "        print(negative.popRear(), end=' ')\n",
    "    while not positive.isEmpty():\n",
    "        new_file.write(positive.peekRear() + ' ')\n",
    "        print(positive.popRear(), end=' ')\n",
    "    new_file.close()\n",
    "except IOError:\n",
    "    print(\"IOError: Не найден файл, либо неверно указан путь\")"
   ]
  },
  {
   "cell_type": "raw",
   "id": "religious-crack",
   "metadata": {},
   "source": [
    "Задание №8\n",
    "Дан текстовый файл. Используя стек, сформировать новый текстовый файл, содержащий строки исходного файла, записанные в обратном порядке: первая строка становится последней, вторая – предпоследней и т.д."
   ]
  },
  {
   "cell_type": "code",
   "execution_count": 20,
   "id": "handy-qatar",
   "metadata": {},
   "outputs": [
    {
     "name": "stdout",
     "output_type": "stream",
     "text": [
      "Введите имя файла: lab4task8\n",
      "file task8.txt end\n",
      "the end\n",
      "line3: abcd\n",
      "line2: vote\n",
      "line1: scra\n"
     ]
    }
   ],
   "source": [
    "folder = \"lab4files/\"\n",
    "filename = input(\"Введите имя файла: \")\n",
    "\n",
    "try:\n",
    "    # task8.txt\n",
    "    new_file = open(folder + filename + \"_output8.txt\", 'w')\n",
    "    with open(folder + filename + \".txt\", 'r') as f:\n",
    "        lines = Stack()\n",
    "        for line in f:\n",
    "            lines.push(line)\n",
    "    # Вывод\n",
    "    while not lines.isEmpty():\n",
    "        new_file.write(lines.peek())\n",
    "        print(lines.pop(), end='')\n",
    "    new_file.close()\n",
    "except IOError:\n",
    "    print(\"IOError: Не найден файл, либо неверно указан путь\")"
   ]
  },
  {
   "cell_type": "raw",
   "id": "durable-miller",
   "metadata": {},
   "source": [
    "Задание №9\n",
    "Дан текстовый файл. Используя стек,вычислить значение логического выражения,записанного в текстовом файле"
   ]
  },
  {
   "cell_type": "code",
   "execution_count": 21,
   "id": "compressed-portrait",
   "metadata": {},
   "outputs": [
    {
     "name": "stdout",
     "output_type": "stream",
     "text": [
      "Введите имя файла: lab4task9\n",
      "(NT):False\n",
      "((N)AT):False\n",
      "((N)A(TOF)):False\n",
      "((N)A(TF)):False\n",
      "((N(TX))A(TO(FT))):False\n",
      "(TF):True\n",
      "((TT)O(TF)):True\n",
      "(((NF)X)O((N)X(T))):True\n",
      "T:True\n"
     ]
    }
   ],
   "source": [
    "folder = \"lab4files/\"\n",
    "filename = input(\"Введите имя файла: \")\n",
    "\n",
    "stack = Stack()\n",
    "\n",
    "# Для решения достаточно помещать в стек символы\n",
    "#T, F, N, A, O, X. Когда встречаем закрывающую скобку,\n",
    "#с помощью ветвлений смотрим, на что нужно заменить\n",
    "#вложенное выражение.\n",
    "# Правила логического выражения записаны так, что\n",
    "#перед первой закрывающей скобкой, которую мы встретим\n",
    "#будет либо T, либо F, затем мы смотрим в каком\n",
    "#выражении оно состоит и заменяем его на T или F\n",
    "#в зависимости от ветвлений. Повторяем, пока не\n",
    "#останется закрыающих скобок, остаётся ответ в стеке\n",
    "def calculate(line):\n",
    "    for ch in line:\n",
    "        if ch == ')':\n",
    "            if stack.pop() == True:\n",
    "                if stack.peek() == 'N':\n",
    "                    stack.pop()\n",
    "                    stack.push(False)\n",
    "                if stack.peek() == 'A' or stack.peek() == 'X':\n",
    "                    stack.pop()\n",
    "                    stack.push(stack.pop())\n",
    "                if stack.peek() == 'O':\n",
    "                    stack.pop()\n",
    "                    stack.pop()\n",
    "                    stack.push(True)\n",
    "            else:\n",
    "                if stack.peek() == 'N':\n",
    "                    stack.pop()\n",
    "                    stack.push(True)\n",
    "                if stack.peek() == 'A':\n",
    "                    stack.pop()\n",
    "                    stack.pop()\n",
    "                    stack.push(False)\n",
    "                if stack.peek() == 'O':\n",
    "                    stack.pop()\n",
    "                    stack.push(stack.pop())\n",
    "                if stack.peek() == 'X':\n",
    "                    stack.pop()\n",
    "                    stack.push(not stack.pop())\n",
    "        elif ch == 'T':\n",
    "            stack.push(True)\n",
    "        elif ch == 'F':\n",
    "            stack.push(False)\n",
    "        elif ch == 'N' or ch == 'A' or ch == 'O' or ch == 'X':\n",
    "            stack.push(ch)\n",
    "        else:\n",
    "            continue\n",
    "    return stack.peek()\n",
    "        \n",
    "try:\n",
    "    # task9.txt\n",
    "    with open(folder + filename + \".txt\", 'r') as f:\n",
    "        for line in f:\n",
    "            print(line.rstrip(), end=':')\n",
    "            print(calculate(line))\n",
    "    # Вывод и запись в новый файл\n",
    "    with open(folder + filename + \"_output9.txt\", 'w') as n:\n",
    "        while not stack.isEmpty():\n",
    "            if stack.peek() == True:\n",
    "                stack.pop()\n",
    "                n.write('T' + '\\n')\n",
    "            elif stack.peek() == False:\n",
    "                stack.pop()\n",
    "                n.write('F'+ '\\n')          \n",
    "except IOError:\n",
    "    print(\"IOError: Не найден файл, либо неверно указан путь\")"
   ]
  },
  {
   "cell_type": "raw",
   "id": "intelligent-horror",
   "metadata": {},
   "source": [
    "Задание №10\n",
    "Дан текстовый файл, используя стек, вычислить значение заданного выражения."
   ]
  },
  {
   "cell_type": "code",
   "execution_count": 22,
   "id": "southern-boston",
   "metadata": {},
   "outputs": [
    {
     "name": "stdout",
     "output_type": "stream",
     "text": [
      "Введите имя файла: lab4task10\n",
      "6 \t M(6,4)\n",
      "6 \t M(N(6,8),4)\n",
      "6 \t M(N(6,8),M(1,4))\n",
      "4 \t N(4,8)\n",
      "4 \t N(4,M(3,8))\n",
      "5 \t 5\n"
     ]
    }
   ],
   "source": [
    "# folder = \"lab4files/\"\n",
    "filename = input(\"Введите имя файла: \")\n",
    "def calculate(line, stack):\n",
    "    # Переворачиваем строку - идём с конца в начало\n",
    "    for ch in line[::-1]:\n",
    "        if ch == 'M':\n",
    "            stack.push(max(stack.pop(), stack.pop()))\n",
    "        elif ch == 'N':\n",
    "            stack.push(min(stack.pop(), stack.pop()))\n",
    "        elif ch.isdigit():\n",
    "            stack.push(ch)\n",
    "        else:\n",
    "            continue\n",
    "    return stack.peek()\n",
    "        \n",
    "try:\n",
    "    # task10.txt\n",
    "    new_f = open(folder + filename + \"_output10.txt\", 'w')\n",
    "    with open(folder + filename + \".txt\", 'r') as f:\n",
    "        for line in f:\n",
    "            stack = Stack()\n",
    "            print(calculate(line, stack), '\\t', line.rstrip())\n",
    "            new_f.write(stack.pop() + '\\t' + line)\n",
    "    new_f.close()\n",
    "except IOError:\n",
    "    print(\"IOError: Не найден файл, либо неверно указан путь\")"
   ]
  },
  {
   "cell_type": "raw",
   "id": "happy-latter",
   "metadata": {},
   "source": [
    "Задание №11\n",
    "Дан текстовый файл. Используя стек, проверить, является ли содержимое текстового файла правильной записью формулы вида:"
   ]
  },
  {
   "cell_type": "code",
   "execution_count": 23,
   "id": "activated-hydrogen",
   "metadata": {},
   "outputs": [
    {
     "name": "stdout",
     "output_type": "stream",
     "text": [
      "Введите имя файла: lab4task11\n",
      "True x\n",
      "True (x)\n",
      "True (x+y)\n",
      "True (x+(y-z))\n",
      "True (x+y+(y-z))\n",
      "True (x+y)+z\n",
      "True z+x+y+(z)\n",
      "False xx+(y-x)\n",
      "False (x++)\n",
      "False (x+y\n",
      "False x+y)\n",
      "False ((x)"
     ]
    }
   ],
   "source": [
    "folder = \"lab4files/\"\n",
    "filename = input(\"Введите имя файла: \")\n",
    "\n",
    "# Обрабатываем, заменяя просмотренные части на спец. символ\n",
    "# n - имя или терм - обозначает, что символы уже обработаны и верны\n",
    "# С помощью ветвлений проверяем правильность порядка в итоге должнен\n",
    "#остаться один спец. символ n.\n",
    "def check(line, stack):\n",
    "    for ch in line:\n",
    "        if ch == '(':\n",
    "            if stack.isEmpty(): \n",
    "                stack.push('(')\n",
    "            elif stack.peek() == '+' or stack.peek() == '-':\n",
    "                stack.pop()\n",
    "                if stack.pop() == 'n':\n",
    "                    stack.push('(')\n",
    "                else:\n",
    "                    return False\n",
    "            else:\n",
    "                return False\n",
    "        elif ch == ')':\n",
    "            if stack.pop() == 'n' and stack.pop() == '(':\n",
    "                stack.push('n')\n",
    "            else:\n",
    "                return False\n",
    "        elif ch == 'x' or ch == 'y' or ch == 'z':\n",
    "            if stack.peek() == '(' or stack.isEmpty(): \n",
    "                stack.push('n')\n",
    "            elif stack.peek() == '+' or stack.peek() == '-':\n",
    "                stack.pop()\n",
    "                stack.pop()\n",
    "                stack.push('n')\n",
    "            else:\n",
    "                return False\n",
    "        elif ch == '+' or ch == '-':\n",
    "            if stack.peek() == 'n':\n",
    "                stack.push(ch)\n",
    "            else:\n",
    "                return False\n",
    "        elif ch == ' ' or ch == '\\n':\n",
    "            continue\n",
    "        else:\n",
    "            return False\n",
    "    if stack.pop() == 'n':\n",
    "        return stack.isEmpty()\n",
    "    return False\n",
    "\n",
    "try:\n",
    "    # task11.txt\n",
    "    result = Stack()\n",
    "    new_f = open(folder + filename + \"_output11.txt\", 'w')\n",
    "    with open(folder + filename + \".txt\", 'r+') as f:\n",
    "        for line in f:\n",
    "            stack = Stack()\n",
    "            isRight = check(line, stack)\n",
    "            result.push(isRight)\n",
    "            print(isRight, line, end='')\n",
    "            new_f.write(\"True\\t\" + line if isRight else \"False\\t\" + line)\n",
    "    new_f.close()\n",
    "except IOError:\n",
    "    print(\"IOError: Не найден файл, либо неверно указан путь\")"
   ]
  },
  {
   "cell_type": "markdown",
   "id": "signal-intensity",
   "metadata": {},
   "source": [
    "# Вывод"
   ]
  },
  {
   "cell_type": "raw",
   "id": "beautiful-bridal",
   "metadata": {},
   "source": [
    "В ходе лабораторной работы были исследованы и реализованы такие структуры данных как: стэк, дек. С помощью этих структур данных были созданы алгоритмы для решения 11 задач."
   ]
  }
 ],
 "metadata": {
  "kernelspec": {
   "display_name": "Python 3",
   "language": "python",
   "name": "python3"
  },
  "language_info": {
   "codemirror_mode": {
    "name": "ipython",
    "version": 3
   },
   "file_extension": ".py",
   "mimetype": "text/x-python",
   "name": "python",
   "nbconvert_exporter": "python",
   "pygments_lexer": "ipython3",
   "version": "3.9.2"
  }
 },
 "nbformat": 4,
 "nbformat_minor": 5
}

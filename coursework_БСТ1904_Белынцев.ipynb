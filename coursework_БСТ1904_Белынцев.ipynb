{
 "cells": [
  {
   "cell_type": "markdown",
   "id": "rural-particular",
   "metadata": {},
   "source": [
    "# Курсовая работа по СиАОД"
   ]
  },
  {
   "cell_type": "markdown",
   "id": "champion-sport",
   "metadata": {},
   "source": [
    "# Выполнил студент группы БСТ1904 Белынцев Д.В."
   ]
  },
  {
   "cell_type": "markdown",
   "id": "delayed-butler",
   "metadata": {},
   "source": [
    "Задача №1"
   ]
  },
  {
   "cell_type": "raw",
   "id": "homeless-inclusion",
   "metadata": {},
   "source": [
    "Массив A состоит из целых положительных чисел - длин отрезков. Составьте из трех отрезков такой треугольник, чтобы его периметр был максимально возможным. Если невозможно составить треугольник с положительной площадью - функция возвращает 0."
   ]
  },
  {
   "cell_type": "code",
   "execution_count": 1,
   "id": "hairy-vessel",
   "metadata": {},
   "outputs": [
    {
     "name": "stdout",
     "output_type": "stream",
     "text": [
      "[1, 2, 2] --> 5\n",
      "[1, 2, 1] --> 0\n",
      "[3, 2, 3, 4] --> 10\n",
      "[3, 6, 2, 3] --> 8\n"
     ]
    }
   ],
   "source": [
    "def maxPerimetr(arr):\n",
    "    arr = sorted(arr, reverse=True)\n",
    "    n = len(arr)\n",
    "    for i in range(n - 2):\n",
    "        if arr[i] < arr[i + 1] + arr[i + 2]:\n",
    "            return arr[i] + arr[i + 1] + arr[i + 2]\n",
    "    return 0\n",
    "\n",
    "arr = [1, 2, 2]\n",
    "print(arr,\"-->\", maxPerimetr(arr))\n",
    "arr = [1, 2, 1]\n",
    "print(arr,\"-->\", maxPerimetr(arr))\n",
    "arr = [3, 2, 3, 4]\n",
    "print(arr,\"-->\", maxPerimetr(arr))\n",
    "arr = [3, 6, 2, 3]\n",
    "print(arr,\"-->\", maxPerimetr(arr))"
   ]
  },
  {
   "cell_type": "markdown",
   "id": "round-custody",
   "metadata": {},
   "source": [
    "Задача 2"
   ]
  },
  {
   "cell_type": "raw",
   "id": "royal-sister",
   "metadata": {},
   "source": [
    "Дан массив неотрицательных целых чисел nums. Расположите их в таком порядке, чтобы вместе они образовали максимально возможное число.\n",
    "Замечание: Результат может быть очень большим числом, поэтому представьте его как string, а не integer."
   ]
  },
  {
   "cell_type": "code",
   "execution_count": 2,
   "id": "driving-location",
   "metadata": {},
   "outputs": [
    {
     "name": "stdout",
     "output_type": "stream",
     "text": [
      "[10, 2] --> 102\n",
      "[3, 30, 34, 5, 9] --> 3033459\n",
      "[1] --> 1\n",
      "[10] --> 10\n"
     ]
    }
   ],
   "source": [
    "def maxNum(nums):\n",
    "    nums.sort(key=lambda n: n % 10)\n",
    "    \n",
    "    res = ''.join(str(e) for e in nums)\n",
    "    return res\n",
    "\n",
    "print(\"[10, 2] -->\", maxNum([10, 2]))\n",
    "print(\"[3, 30, 34, 5, 9] -->\", maxNum([3, 30, 34, 5, 9]))\n",
    "print(\"[1] -->\", maxNum([1]))\n",
    "print(\"[10] -->\", maxNum([10]))"
   ]
  },
  {
   "cell_type": "markdown",
   "id": "departmental-brush",
   "metadata": {},
   "source": [
    "Задача 3"
   ]
  },
  {
   "cell_type": "raw",
   "id": "special-polymer",
   "metadata": {},
   "source": [
    "Дана матрица mat размером m * n, значения - целочисленные. Напишите функцию, сортирующую каждую диагональ матрицы по возрастанию и возвращающую получившуюся матрицу."
   ]
  },
  {
   "cell_type": "code",
   "execution_count": 3,
   "id": "systematic-airfare",
   "metadata": {},
   "outputs": [
    {
     "name": "stdout",
     "output_type": "stream",
     "text": [
      "Matrix:\n",
      "[3, 3, 1, 1]\n",
      "[2, 2, 1, 2]\n",
      "[1, 1, 1, 2]\n",
      "\n",
      "Sorted: \n",
      "[1, 1, 1, 1]\n",
      "[1, 2, 2, 2]\n",
      "[1, 2, 3, 3]\n",
      "\n",
      "Matrix:\n",
      "[11, 25, 66, 1, 69, 7]\n",
      "[23, 55, 17, 45, 15, 52]\n",
      "[75, 31, 36, 44, 58, 8]\n",
      "[22, 27, 33, 25, 68, 4]\n",
      "[84, 28, 14, 11, 5, 50]\n",
      "\n",
      "Sorted: \n",
      "[5, 17, 4, 1, 52, 7]\n",
      "[11, 11, 25, 45, 8, 69]\n",
      "[14, 23, 25, 44, 58, 15]\n",
      "[22, 27, 31, 36, 50, 66]\n",
      "[84, 28, 75, 33, 55, 68]\n"
     ]
    }
   ],
   "source": [
    "def sortDiag(mat):\n",
    "    m, n = len(mat), len(mat[0])\n",
    "    temp = [[] for i in range(m+n)]\n",
    "\n",
    "    for i in range(m):\n",
    "        for j in range(n):\n",
    "            temp[i - j].append(mat[i][j])\n",
    "    \n",
    "    for line in temp:\n",
    "        line.sort(reverse = True)\n",
    "\n",
    "    for i in range(m):\n",
    "        for j in range(n):\n",
    "            mat[i][j] = temp[i-j].pop()\n",
    "    return mat\n",
    "\n",
    "\n",
    "\n",
    "arr = [[3,3,1,1], [2,2,1,2], [1,1,1,2]]\n",
    "print(\"Matrix:\")\n",
    "for l in arr:\n",
    "    print(l) \n",
    "print(\"\\nSorted: \")\n",
    "arr = sortDiag(arr)\n",
    "for l in arr:\n",
    "    print(l)\n",
    "arr = [[11, 25, 66, 1, 69, 7], [23, 55, 17, 45, 15, 52], [75, 31, 36, 44, 58, 8], [22, 27, 33, 25, 68, 4], [84, 28, 14, 11, 5, 50]]\n",
    "print(\"\\nMatrix:\")\n",
    "for l in arr:\n",
    "    print(l)\n",
    "    \n",
    "print(\"\\nSorted: \")\n",
    "arr = sortDiag(arr)\n",
    "for l in arr:\n",
    "    print(l)"
   ]
  },
  {
   "cell_type": "raw",
   "id": "incorporate-screw",
   "metadata": {},
   "source": [
    "Задача 4"
   ]
  },
  {
   "cell_type": "raw",
   "id": "ethical-absence",
   "metadata": {},
   "source": [
    "Некоторые сферические шарики распределены по двухмерному пространству. Для каждого шарика даны x координаты начала и конца его горизонтального диаметра. Так как пространство двумерно, то y координаты не имеют значения в данной задаче. Координата x_start всегда меньше x_end.\n",
    "\n",
    "Стрелу можно выстрелить строго вертикально (вдоль y оси) из разных точек x­оси. Шарик с координатами x_start и x_end уничтожается стрелой, если она была выпущена из такой позиции x, что xstart ⩽ x ⩽ xend.\n",
    "Когда стрела выпущена, она летит в пространстве бесконечное время (уничтожая все шарики на пути).\n",
    "\n",
    "Дан массив points, где points[i] = [xstart, xend]. Напишите функцию, возвращающую минимальное количество стрел, которые нужно выпустить, чтобы уничтожить все шарики."
   ]
  },
  {
   "cell_type": "code",
   "execution_count": 5,
   "id": "neural-victim",
   "metadata": {},
   "outputs": [
    {
     "name": "stdout",
     "output_type": "stream",
     "text": [
      "Ввод строк: 0 - вручную; 1 - готовые примеры (0/1). 15\n",
      "ex1: points = [[10, 16], [2, 8], [1, 6], [7, 12]]\n",
      "get_min_arrows(points): 2\n",
      "\n",
      "ex2: points = [[1, 2], [3, 4], [5, 6], [7, 8]]\n",
      "get_min_arrows(points): 4\n",
      "\n",
      "ex3: points = [[1, 2], [2, 3], [3, 4], [4, 5]]\n",
      "get_min_arrows(points): 2\n",
      "\n",
      "ex4: points = [[1, 2]]\n",
      "get_min_arrows(points): 1\n",
      "\n",
      "ex5: points = [[2, 3], [2, 3]]\n",
      "get_min_arrows(points): 1\n",
      "\n",
      "ex6: points = [[1, 6], [2, 8], [2, 12], [3, 13], [5, 7], [7, 12], [10, 16]]\n"
     ]
    }
   ],
   "source": [
    "def get_min_arrows(points):\n",
    "    points.sort(key=lambda x: x[1])\n",
    "    count = 0\n",
    "    while(points):\n",
    "        x_min_end = points[0][1]\n",
    "        to_remove = []\n",
    "        for point in points:\n",
    "            if (point[0] <= x_min_end and x_min_end <= point[1]):\n",
    "                to_remove.append(point)\n",
    "        while(to_remove):\n",
    "            points.remove(to_remove.pop())\n",
    "        count += 1\n",
    "    return count\n",
    "\n",
    "option = int(input(\"Ввод строк: 0 - вручную; 1 - готовые примеры (0/1). \"))\n",
    "if (option == 0):\n",
    "    n = int(input(\"Введите количество элементов массива: \"))\n",
    "    points = []\n",
    "    for i in range(0, n):\n",
    "        x_start = int(input(\"Введите x_start\\t шара #%s: \" % (i+1)))\n",
    "        x_end = int(input(\"Введите x_end\\t шара #%s: \" % (i+1)))\n",
    "        points.append([x_start, x_end])\n",
    "    print(\"points = %s\" % points)\n",
    "    print(\"get_min_arrows(points): %s\" % get_min_arrows(points))\n",
    "else:\n",
    "    points = [[10,16],[2,8],[1,6],[7,12]]\n",
    "    print(\"ex1: points = %s\" % points)\n",
    "    print(\"get_min_arrows(points): %s\\n\" % get_min_arrows(points))\n",
    "    points = [[1,2],[3,4],[5,6],[7,8]]\n",
    "    print(\"ex2: points = %s\" % points)\n",
    "    print(\"get_min_arrows(points): %s\\n\" % get_min_arrows(points))\n",
    "    points = [[1,2],[2,3],[3,4],[4,5]]\n",
    "    print(\"ex3: points = %s\" % points)\n",
    "    print(\"get_min_arrows(points): %s\\n\" % get_min_arrows(points))\n",
    "    points = [[1,2]]\n",
    "    print(\"ex4: points = %s\" % points)\n",
    "    print(\"get_min_arrows(points): %s\\n\" % get_min_arrows(points))\n",
    "    points = [[2,3],[2,3]]\n",
    "    print(\"ex5: points = %s\" % points)\n",
    "    print(\"get_min_arrows(points): %s\\n\" % get_min_arrows(points))\n",
    "    points = [[1, 6], [2, 8], [2, 12], [3, 13], [5, 7], [7, 12], [10, 16]]\n",
    "    print(\"ex6: points = %s\" % points)"
   ]
  },
  {
   "cell_type": "raw",
   "id": "yellow-weather",
   "metadata": {},
   "source": [
    "Задача 5"
   ]
  },
  {
   "cell_type": "raw",
   "id": "talented-master",
   "metadata": {},
   "source": [
    "На столе стоят 3n стопок монет. Вы и ваши друзья Алиса и Боб забираете стопки монет по следующему алгоритму:\n",
    "\n",
    "Вы выбираете 3 стопки монет из оставшихся на столе.\n",
    "Алиса забирает себе стопку с максимальным количеством монет.\n",
    "Вы забираете одну из двух оставшихся стопок.\n",
    "Боб забирает последнюю стопку.\n",
    "Если еще остались стопки, то действия повторяются с первого шага.\n",
    "Дан массив целых положительных чисел piles. Напишите функцию, возвращающую максимальное число монет, которое вы можете получить.\n",
    "\n",
    "Пример:\n",
    "\n",
    "Input: piles = [2,4,1,2,7,8]\n",
    "Output: 9"
   ]
  },
  {
   "cell_type": "code",
   "execution_count": 6,
   "id": "temporal-virus",
   "metadata": {},
   "outputs": [
    {
     "name": "stdout",
     "output_type": "stream",
     "text": [
      "Ввод строк: 0 - вручную; 1 - готовые примеры (0/1). 10\n",
      "ex1: piles = [2, 4, 1, 2, 7, 8]\n",
      "max_coins(piles): 9\n",
      "\n",
      "ex2: piles = [2, 4, 5]\n",
      "max_coins(piles): 4\n",
      "\n",
      "ex3: piles = [9, 8, 7, 6, 5, 1, 2, 3, 4]\n",
      "max_coins(piles): 18\n",
      "\n"
     ]
    }
   ],
   "source": [
    "def max_coins(piles):\n",
    "    piles.sort()\n",
    "    res = 0\n",
    "    for i in range(len(piles)//3, len(piles), 2):\n",
    "        res += piles[i]\n",
    "    return res\n",
    "\n",
    "option = int(input(\"Ввод строк: 0 - вручную; 1 - готовые примеры (0/1). \"))\n",
    "if (option == 0):\n",
    "    n = int(input(\"Введите n - количество стопок по три: \"))\n",
    "    piles = []\n",
    "    for i in range(0, 3*n):\n",
    "        coins = int(input(\"Введите количество монет стопки #%s: \" % (i+1)))\n",
    "        piles.append(coins)\n",
    "    print(\"piles = %s\" % piles)\n",
    "    print(\"max_coins(piles): %s\" % max_coins(piles))\n",
    "else:\n",
    "    piles = [2,4,1,2,7,8]\n",
    "    print(\"ex1: piles = %s\" % piles)\n",
    "    print(\"max_coins(piles): %s\\n\" % max_coins(piles))\n",
    "    piles = [2,4,5]\n",
    "    print(\"ex2: piles = %s\" % piles)\n",
    "    print(\"max_coins(piles): %s\\n\" % max_coins(piles))\n",
    "    piles = [9,8,7,6,5,1,2,3,4]\n",
    "    print(\"ex3: piles = %s\" % piles)\n",
    "    print(\"max_coins(piles): %s\\n\" % max_coins(piles))"
   ]
  },
  {
   "cell_type": "raw",
   "id": "pursuant-booth",
   "metadata": {},
   "source": [
    "Задача 6"
   ]
  },
  {
   "cell_type": "raw",
   "id": "acute-importance",
   "metadata": {},
   "source": [
    "Даны две строки: s1 и s2 с одинаковым размером, проверьте, может ли некоторая перестановка строки s1 “победить” некоторую перестановку строки s2 или наоборот.\n",
    "\n",
    "Строка x может “победить” строку y (обе имеют размер n), если x[i] >= y[i] (в алфавитном порядке) для всех i от 0 до n-1.\n",
    "\n",
    "Пример:\n",
    "\n",
    "Input: s1 = \"abc\", s1 = \"xya\";  \n",
    "Output: true\n",
    "Объяснение:\n",
    "\n",
    "«ayx» - это перестановка строки s2 = «xya», которая “побеждает” строку s1 = «abc»."
   ]
  },
  {
   "cell_type": "code",
   "execution_count": 7,
   "id": "bibliographic-newton",
   "metadata": {},
   "outputs": [
    {
     "name": "stdout",
     "output_type": "stream",
     "text": [
      "True\n",
      "False\n"
     ]
    }
   ],
   "source": [
    "def stringWin(s1, s2):\n",
    "    str1 = sorted(s1)\n",
    "    str2 = sorted(s2)\n",
    "    f1 = True\n",
    "    f2 = True\n",
    "    \n",
    "    for i in range(len(str1)):\n",
    "        if str1[i] < str2[i]:\n",
    "            f1 = False\n",
    "        if str1[i] > str2[i]:\n",
    "            f2 = False\n",
    "    return(f1 or f2)\n",
    "    \n",
    "a1 = 'abc'\n",
    "a2 = 'xya'\n",
    "print(stringWin(a1, a2))\n",
    "\n",
    "a1 = 'abe' \n",
    "a2 = 'acd'\n",
    "print(stringWin(a1, a2))\n"
   ]
  },
  {
   "cell_type": "raw",
   "id": "specific-advantage",
   "metadata": {},
   "source": [
    "Задача 7"
   ]
  },
  {
   "cell_type": "raw",
   "id": "integrated-hundred",
   "metadata": {},
   "source": [
    "Дана строка s, вернуть самую длинную полиндромную подстроку в s.\n",
    "\n",
    "Пример:\n",
    "\n",
    "Input: s = \"babad\"\n",
    "Output: \"bab\"\n",
    "Примечание:\n",
    "\n",
    "\"aba\" также правильный ответ."
   ]
  },
  {
   "cell_type": "code",
   "execution_count": 8,
   "id": "exotic-printing",
   "metadata": {},
   "outputs": [
    {
     "name": "stdout",
     "output_type": "stream",
     "text": [
      "result: bab \n",
      "\n",
      "result: bb\n"
     ]
    }
   ],
   "source": [
    "def longestPalindrome(s):\n",
    "    res = \"\"\n",
    "    for i in range(len(s)):        \n",
    "        odd  = palindrome(s, i, i)\n",
    "        even = palindrome(s, i, i+1)\n",
    "        res = max(res, odd, even, key=len)\n",
    "    return res\n",
    " \n",
    "def palindrome(s, l, r):    \n",
    "    while l >= 0 and r < len(s) and s[l] == s[r]:\n",
    "        l -= 1\n",
    "        r += 1\n",
    "        #print('l:', l, 'r', r)\n",
    "    return s[l + 1:r]\n",
    "\n",
    "print('result:', longestPalindrome(\"babad\"), '\\n')\n",
    "print('result:', longestPalindrome(\"cbbd\"))"
   ]
  },
  {
   "cell_type": "raw",
   "id": "delayed-edward",
   "metadata": {},
   "source": [
    "Задача 8"
   ]
  },
  {
   "cell_type": "raw",
   "id": "funny-shark",
   "metadata": {},
   "source": [
    "Вернуть количество отдельных непустых подстрок текста, которые могут быть записаны как конкатенация некоторой строки с самой собой (т.е. она может быть записана, как a + a, где a - некоторая строка).\n",
    "\n",
    "Пример:\n",
    "\n",
    "Input: text = \"abcabcabc\"\n",
    "Output: 3\n",
    "Объяснение:\n",
    "\n",
    "Получилось 3 подстроки: \"abcabc\", \"bcabca\" and \"cabcab\"."
   ]
  },
  {
   "cell_type": "code",
   "execution_count": 9,
   "id": "frequent-carolina",
   "metadata": {},
   "outputs": [
    {
     "name": "stdout",
     "output_type": "stream",
     "text": [
      "result: bab \n",
      "\n",
      "result: bb\n"
     ]
    }
   ],
   "source": [
    "def longestPalindrome(s):\n",
    "    res = \"\"\n",
    "    for i in range(len(s)):        \n",
    "        odd  = palindrome(s, i, i)\n",
    "        even = palindrome(s, i, i+1)\n",
    "        res = max(res, odd, even, key=len)\n",
    "        #print('odd:', odd, 'even:', even, 'res:', res, 'i:', i)\n",
    "    return res\n",
    " \n",
    "def palindrome(s, l, r):    \n",
    "    while l >= 0 and r < len(s) and s[l] == s[r]:\n",
    "        l -= 1\n",
    "        r += 1\n",
    "        #print('l:', l, 'r', r)\n",
    "    return s[l + 1:r]\n",
    "\n",
    "print('result:', longestPalindrome(\"babad\"), '\\n')\n",
    "print('result:', longestPalindrome(\"cbbd\"))"
   ]
  },
  {
   "cell_type": "raw",
   "id": "imported-catalyst",
   "metadata": {},
   "source": [
    "Задача 9"
   ]
  },
  {
   "cell_type": "raw",
   "id": "caring-thomson",
   "metadata": {},
   "source": [
    "Дан массив отрезков intervals, в котором intervals[i] = [start_i, end_i], некоторые отрезки могут пересекаться. Напишите функцию, которая объединяет все пересекающиеся отрезки в один и возвращает новый массив непересекающихся отрезков.Дан массив отрезков intervals, в котором intervals[i] = [start_i, end_i], некоторые отрезки могут пересекаться. Напишите функцию, которая объединяет все пересекающиеся отрезки в один и возвращает новый массив непересекающихся отрезков."
   ]
  },
  {
   "cell_type": "raw",
   "id": "occupied-bunny",
   "metadata": {},
   "source": [
    "Пример:\n",
    "\n",
    "Input: intervals = [[1,3],[2,6],[8,10],[15,18]]\n",
    "Output: [[1,6],[8,10],[15,18]]"
   ]
  },
  {
   "cell_type": "code",
   "execution_count": 10,
   "id": "electric-supervision",
   "metadata": {},
   "outputs": [
    {
     "name": "stdout",
     "output_type": "stream",
     "text": [
      "[[1, 7], [2, 7], [8, 10], [15, 18]]  -->  [[1, 7], [8, 10], [15, 18]]\n",
      "[[1, 5], [4, 5]]  -->  [[1, 5]]\n"
     ]
    }
   ],
   "source": [
    "def merge(intervals):\n",
    "    intervals.sort(key=lambda x: x[0])\n",
    "    \n",
    "    result = []\n",
    "    for interval in intervals:\n",
    "        if not result or result[-1][1] < interval[0]:\n",
    "            result.append(interval)\n",
    "        else:\n",
    "            result[-1][1] = max(result[-1][1], interval[1])\n",
    "    return(result)\n",
    "    \n",
    "intervals = [[1, 3], [2, 7], [8, 10], [15, 18]]\n",
    "print(intervals, ' --> ', merge(intervals))\n",
    "intervals = [[1,4],[4,5]]\n",
    "print(intervals, ' --> ', merge(intervals))"
   ]
  },
  {
   "cell_type": "markdown",
   "id": "stunning-branch",
   "metadata": {},
   "source": [
    "# Вывод"
   ]
  },
  {
   "cell_type": "raw",
   "id": "documentary-reverse",
   "metadata": {},
   "source": [
    "В ходе курсовой работы были созданы и реализованы алгоритмы для решения 9 задач. Были получены навыки в обработке крайних случаев, входных и выходных данных различных задач для составления алгоритма их решения."
   ]
  }
 ],
 "metadata": {
  "kernelspec": {
   "display_name": "Python 3",
   "language": "python",
   "name": "python3"
  },
  "language_info": {
   "codemirror_mode": {
    "name": "ipython",
    "version": 3
   },
   "file_extension": ".py",
   "mimetype": "text/x-python",
   "name": "python",
   "nbconvert_exporter": "python",
   "pygments_lexer": "ipython3",
   "version": "3.9.2"
  }
 },
 "nbformat": 4,
 "nbformat_minor": 5
}

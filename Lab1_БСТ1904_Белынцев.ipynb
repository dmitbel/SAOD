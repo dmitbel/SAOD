{
 "cells": [
  {
   "cell_type": "markdown",
   "id": "hydraulic-modern",
   "metadata": {},
   "source": [
    "# Лабораторная работа №1"
   ]
  },
  {
   "cell_type": "markdown",
   "id": "seeing-farmer",
   "metadata": {},
   "source": [
    "## Выполнил студент группы БСТ1904 Белынцев Дмитрий Владимирович"
   ]
  },
  {
   "cell_type": "markdown",
   "id": "serious-filing",
   "metadata": {},
   "source": [
    "## Задание №1"
   ]
  },
  {
   "cell_type": "markdown",
   "id": "shaped-emission",
   "metadata": {},
   "source": [
    "## Вариант 1"
   ]
  },
  {
   "cell_type": "raw",
   "id": "fatal-asthma",
   "metadata": {},
   "source": [
    "1. Создать Jupyter Notebook со следующим наименованием: Lab1_Группа_ФИО\n",
    "2. Создать новую ячейку\n",
    "3. В созданной ячейке по указанной ниже форме заполните оглавление файла\n",
    "4. С помощью кнопки запустите выполнение всех ячеек\n",
    "5. После выполнения у вас должна отформатироваться ячейка с оглавлением и должен выполниться “Hello, World!”"
   ]
  },
  {
   "cell_type": "code",
   "execution_count": 25,
   "id": "unauthorized-formula",
   "metadata": {},
   "outputs": [
    {
     "name": "stdout",
     "output_type": "stream",
     "text": [
      "Hello World!\n"
     ]
    }
   ],
   "source": [
    "print(\"Hello World!\")\n"
   ]
  },
  {
   "cell_type": "markdown",
   "id": "finished-joshua",
   "metadata": {},
   "source": [
    "## Задание №2"
   ]
  },
  {
   "cell_type": "raw",
   "id": "scenic-format",
   "metadata": {},
   "source": [
    "Написать генератор случайных матриц (многомерных), который принимает опциональные параметры m, n, min_limit, max_limit, где m и n указывают размер матрицы, а min_lim и max_lim - минимальное и максимальное значение для генерируемого числа."
   ]
  },
  {
   "cell_type": "code",
   "execution_count": 26,
   "id": "rental-contribution",
   "metadata": {},
   "outputs": [],
   "source": [
    "import random\n",
    "def mas_gen(m, n, min_limit, max_limit):\n",
    "    mas1 = []\n",
    "\n",
    "    for j in range(m):\n",
    "        mas2 = []\n",
    "        for i in range(n):\n",
    "            mas2.append(random.randint(min_limit,max_limit))\n",
    "        mas1.append(mas2)\n",
    "    return(mas1)"
   ]
  },
  {
   "cell_type": "markdown",
   "id": "measured-dimension",
   "metadata": {},
   "source": [
    "## Задание 3"
   ]
  },
  {
   "cell_type": "raw",
   "id": "stylish-forge",
   "metadata": {},
   "source": [
    "Реализовать методы сортировки строк числовой матрицы в соответствии с заданием. Оценить время работы каждого алгоритма сортировки и сравнить его со временем стандартной функции сортировки. Испытания проводить на сгенерированных матрицах."
   ]
  },
  {
   "cell_type": "code",
   "execution_count": 27,
   "id": "detailed-liberia",
   "metadata": {},
   "outputs": [],
   "source": [
    "#Сортировка выбором\n",
    "def selection_sort(array):\n",
    "    for i in range(len(array) - 1):\n",
    "        m = i\n",
    "        j = i + 1\n",
    "        while j < len(array):\n",
    "            if array[j] < array[m]:\n",
    "                m = j\n",
    "            j += 1\n",
    "        array[i], array[m] = array[m], array[i]"
   ]
  },
  {
   "cell_type": "code",
   "execution_count": 28,
   "id": "important-resolution",
   "metadata": {},
   "outputs": [],
   "source": [
    "#Сортировка вставкой\n",
    "def insertion_sort(array):\n",
    "    for i in range(1, len(array)):\n",
    "        k = array[i]\n",
    "        j = i - 1\n",
    "        while j >= 0 and k < array[j] :\n",
    "            array[j + 1] = array[j]\n",
    "            j -= 1\n",
    "        array[j + 1] = k \n",
    "    return(array)"
   ]
  },
  {
   "cell_type": "code",
   "execution_count": 29,
   "id": "knowing-timer",
   "metadata": {},
   "outputs": [],
   "source": [
    "#Сортировка обменом\n",
    "#Сравниваем два соседних элемента массива, пока массив не отсортирован\n",
    "def bubble_sort(array):\n",
    "    for i in range(len(array)):\n",
    "        for j in range(len(array) - 1 - i):\n",
    "            if array[j] > array[j + 1] : \n",
    "                array[j], array[j + 1] = array[j + 1], array[j]"
   ]
  },
  {
   "cell_type": "code",
   "execution_count": 30,
   "id": "herbal-august",
   "metadata": {},
   "outputs": [],
   "source": [
    "#Сортировка Шелла\n",
    "def shell_sort(array):\n",
    "    last_index = len(array) - 1\n",
    "    step = len(array)//2\n",
    "    while step > 0:\n",
    "        for i in range(step, last_index + 1, 1):\n",
    "            j = i\n",
    "            d = j - step\n",
    "            while d >= 0 and array[d] > array[j]:\n",
    "                array[d], array[j] = array[j], array[d]\n",
    "                j = d\n",
    "                d = j - step\n",
    "        step //= 2"
   ]
  },
  {
   "cell_type": "code",
   "execution_count": 31,
   "id": "turned-cosmetic",
   "metadata": {},
   "outputs": [],
   "source": [
    "#Турнирная сортировка\n",
    "def tournament_sort(arr):\n",
    "    tree = [None] * 2 * (len(arr) + len(arr) % 2)\n",
    "    index = len(tree) - len(arr) - len(arr) % 2\n",
    "    \n",
    "    for i, v in enumerate(arr):\n",
    "        tree[index + i] = (i, v)  \n",
    "    for j in range(len(arr)):\n",
    "        n = len(arr)\n",
    "        index = len(tree) - len(arr) - len(arr) % 2\n",
    "        while index > -1:\n",
    "            n = (n + 1) // 2\n",
    "            for i in range(n):\n",
    "                i = max(index + i * 2, 1) # на последней итерация index + i * 2 = 0\n",
    "                if tree[i] != None and tree[i + 1] != None:\n",
    "                    if tree[i][1] < tree[i + 1][1]:\n",
    "                        tree[i // 2] = tree[i]\n",
    "                    else:\n",
    "                        tree[i // 2] = tree[i + 1]\n",
    "                else:\n",
    "                    tree[i // 2] = tree[i] if tree[i] != None else tree[i + 1]\n",
    "            index -= n\n",
    "        index, x = tree[0]\n",
    "        arr[j] = x\n",
    "        tree[len(tree) - len(arr) - len(arr) % 2 + index] = None"
   ]
  },
  {
   "cell_type": "code",
   "execution_count": 32,
   "id": "pursuant-remains",
   "metadata": {},
   "outputs": [],
   "source": [
    "#Быстрая сортировка\n",
    "def quick_sort(array):\n",
    "    q = random.choice(array)\n",
    "    sarr = []\n",
    "    marr = []\n",
    "    earr = []\n",
    "    for n in array:\n",
    "        if n < q:\n",
    "            sarr.append(n)\n",
    "        elif n > q:\n",
    "            marr.append(n)\n",
    "        else:\n",
    "            earr.append(n)\n",
    "    quick_sort(sarr) + earr + quick_sort(marr)"
   ]
  },
  {
   "cell_type": "code",
   "execution_count": 33,
   "id": "subject-publication",
   "metadata": {},
   "outputs": [],
   "source": [
    "#Пирамидальная сортировка\n",
    "def heap(array, heap_size, root_index): \n",
    "    largest = root_index\n",
    "    left_child = (2 * root_index) + 1\n",
    "    right_child = (2 * root_index) + 2\n",
    "\n",
    "    if left_child < heap_size and array[left_child] > array[largest]:\n",
    "        largest = left_child\n",
    "    if right_child < heap_size and array[right_child] > array[largest]:\n",
    "        largest = right_child\n",
    "    if largest != root_index:\n",
    "        array[root_index], array[largest] = array[largest], array[root_index]\n",
    "        heap(array, heap_size, largest)\n",
    "\n",
    "def pyramid_sort(array):  \n",
    "    for i in range(len(array), -1, -1):\n",
    "        heap(array, len(array), i)\n",
    "        \n",
    "    for i in range(len(array) - 1, 0, -1):\n",
    "        array[i], array[0] = array[0], array[i]\n",
    "        heap(array, i, 0)"
   ]
  },
  {
   "cell_type": "code",
   "execution_count": 35,
   "id": "understanding-temperature",
   "metadata": {
    "scrolled": true
   },
   "outputs": [
    {
     "name": "stdout",
     "output_type": "stream",
     "text": [
      "Матрица: \n",
      "\n",
      "Сортировки\n",
      "\n",
      "Сортировка выбором\n",
      "Время: 0.008944199999859848 \n",
      " [-249, -201, -138, -117, -108, -84, -13, 9, 24, 75, 116, 181, 207, 212, 362, 368, 393, 471, 486, 495, 530, 538, 594, 622, 638, 719, 758, 814, 818, 912]\n",
      "\n",
      "Сортировка вставкой\n",
      "Время: 0.07065920000013648 \n",
      " [-235, -215, -209, -160, -79, -48, -7, 129, 246, 259, 265, 266, 267, 396, 400, 419, 439, 527, 548, 550, 608, 696, 703, 713, 795, 930, 943, 964, 983, 998]\n",
      "\n",
      "Сортировка обменом\n",
      "Время: 0.006740300000046773 \n",
      " [-245, -213, -168, -166, -150, -97, -57, -41, -17, 25, 33, 39, 64, 147, 216, 297, 318, 319, 324, 438, 450, 507, 618, 628, 711, 713, 740, 752, 857, 941]\n",
      "\n",
      "Сортировка Шелла\n",
      "Время: 0.006701699999894117 \n",
      " [-238, -230, -90, -52, 51, 59, 68, 135, 200, 250, 268, 288, 296, 329, 359, 390, 403, 437, 490, 507, 531, 534, 557, 607, 615, 622, 726, 837, 873, 946]\n",
      "\n",
      "Турнирная сортировка\n",
      "Время: 0.006775000000061482 \n",
      " [-200, -189, -81, -74, 4, 15, 34, 58, 175, 260, 326, 343, 423, 456, 512, 564, 593, 629, 692, 705, 736, 750, 767, 812, 837, 866, 880, 923, 965, 990]\n",
      "\n",
      "Пирамидальная сортировка\n",
      "Время: 0.0067959000000428205 \n",
      " [-247, -234, -180, -143, -75, -47, 1, 27, 118, 127, 172, 173, 231, 237, 249, 387, 442, 447, 470, 480, 530, 537, 562, 713, 725, 739, 765, 822, 850, 937]\n",
      "\n",
      "Встроенная сортировка\n",
      "Время: 0.0716747999999825 \n",
      " [253, 249, 662, 705, 896, 188, 133, 530, 822, 312, -112, 184, 712, 365, 86, 570, 28, 296, -229, 582, 39, 952, 974, 806, 847, -247, -40, 742, 23, 530]\n"
     ]
    }
   ],
   "source": [
    "import timeit\n",
    "\n",
    "mat = mas_gen(7, 30, -250, 1010)\n",
    "\n",
    "print(\"Матрица: \")\n",
    "#for i in range(0,7):\n",
    "#    print(mat[i])\n",
    "print(\"\\nСортировки\")\n",
    "\n",
    "print(\"\\nСортировка выбором\\nВремя:\",       timeit.timeit(str(selection_sort(mat[0]))), '\\n', mat[0])\n",
    "print(\"\\nСортировка вставкой\\nВремя:\",      timeit.timeit(str(insertion_sort(mat[1]))), '\\n', mat[1])\n",
    "print(\"\\nСортировка обменом\\nВремя:\",       timeit.timeit(str(bubble_sort(mat[2]))), '\\n', mat[2])\n",
    "print(\"\\nСортировка Шелла\\nВремя:\",         timeit.timeit(str(shell_sort(mat[3]))), '\\n', mat[3])\n",
    "print(\"\\nТурнирная сортировка\\nВремя:\",     timeit.timeit(str(tournament_sort(mat[4]))), '\\n', mat[4])\n",
    "print(\"\\nПирамидальная сортировка\\nВремя:\", timeit.timeit(str(pyramid_sort(mat[5]))), '\\n', mat[5])\n",
    "print(\"\\nВстроенная сортировка\\nВремя:\",    timeit.timeit(str(sorted(mat[6]))), '\\n', mat[6])"
   ]
  },
  {
   "cell_type": "markdown",
   "id": "literary-functionality",
   "metadata": {},
   "source": [
    "## Задание 4"
   ]
  },
  {
   "cell_type": "raw",
   "id": "beautiful-safety",
   "metadata": {},
   "source": [
    "Создать публичный репозиторий на github, и запушить выполненное задание в .ipynb формате."
   ]
  }
 ],
 "metadata": {
  "kernelspec": {
   "display_name": "Python 3",
   "language": "python",
   "name": "python3"
  },
  "language_info": {
   "codemirror_mode": {
    "name": "ipython",
    "version": 3
   },
   "file_extension": ".py",
   "mimetype": "text/x-python",
   "name": "python",
   "nbconvert_exporter": "python",
   "pygments_lexer": "ipython3",
   "version": "3.9.2"
  }
 },
 "nbformat": 4,
 "nbformat_minor": 5
}
